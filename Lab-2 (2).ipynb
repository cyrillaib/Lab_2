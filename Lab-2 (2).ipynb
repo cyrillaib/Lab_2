{
 "cells": [
  {
   "cell_type": "markdown",
   "id": "0c84bb46-37cd-4cdc-b677-02535ad2b7df",
   "metadata": {},
   "source": [
    "# Overview\n",
    "\n",
    "The goal of this lab is to familiarize yourselves with Python so that we can soon begin integrating, wrangling, analyzing, and visualizing data. This lab will tour you through the basics of Python and will ask that you create a series of simple algorithms as a final deliverable.\n",
    "\n"
   ]
  },
  {
   "cell_type": "markdown",
   "id": "9b564f85-3913-4670-9c98-da14af3dad83",
   "metadata": {},
   "source": [
    "# Using Jupyter notebooks\n",
    "\n",
    "You are currently reading text that was entered into a Markdown cell. In this class we will be using **Markdown cells** (where you can redact text using Markdown styling) and **Code cells** (where you can write Python code).\n",
    "\n",
    "Normally, in a standard Python script (.py file), we would use the hash symbol (#) at the start of a line where we wanted to add a comment to our code. However, the Markdown cells in Jupyter notebooks allow you to go a step further by making comments more readable and elaborate.\n",
    "\n",
    "- You can create a new cell by hitting the **+** icon at the top-left of the notebook tab window (or by pressing **a** when no cells are selected).\n",
    "- When adding a cell, a Code cell is created by default, but you can convert this cell into a Markdown cell by selecting *Markdown* from the dropdown menu at the top of the notebook tab window while the cell is selected (or you can just press **m** with the cell selected).\n",
    "- After having edited a cell, you can press **Shift+Enter** or **Ctrl/Cmd+Enter** to run the cell (or you can use the play button at the top of the tab window). This will **render** the Markdown text if it is a Markdown cell, or it will **run** the Python script if it is Code cell.\n",
    "- To edit a rendered Markdown cell, double-click on it (try double-clicking on this one).\n",
    "\n",
    "Note as well that the directory in which the present notebook (.ipynb file) is located is visible on the left pane (if viewing on your browser). Using this directory, you can open files within JupyterLab: your entire workspace (files and folders inside your current directory) is technically accessible from within JupyterLab, so if that simplifies things for you, then use it!\n",
    "\n",
    "For more on Jupyter, see the [official documentation](https://jupyterlab.readthedocs.io/en/stable/user/interface.html) and this [video guide](https://www.youtube.com/watch?v=A5YyoCKxEOU&ab_channel=Jupyter%2FIPython). For more on running cells and some of the intricacies involving code execution order, [watch this video](https://youtu.be/oJ6z02N0Te0?t=330) from 00:05:30 onward, which highlights some issues you will definitely face as your notebooks become more elaborate!"
   ]
  },
  {
   "cell_type": "markdown",
   "id": "f4db0486-5c0d-4153-abee-f4315fc8c4ec",
   "metadata": {},
   "source": [
    "# Playing with Python\n",
    "\n",
    "## Python variables and object types\n",
    "\n",
    ">Python is dynamically typed, meaning that any variable can be assigned any value. There are no type declarations. A variable that holds an integer can then be assigned a string, for example. Primitive types include integers, floats, strings (both single-byte and Unicode), and booleans (with literals True and False). Built-in container types include lists, dictionaries, and classes. ([source](https://pyhurry.readthedocs.io/en/latest/first.html#types))\n",
    "\n",
    "In Python as with other languages, we assign values (data) to variables. There are certain conventions for naming variables in Python which you should follow:\n",
    "- Use lowercase without spaces.\n",
    "- Use underscores in place of spaces.\n",
    "- Name variables descriptively.\n",
    "- Do not start variable name with a number.\n",
    "- Avoid existing function and built-in names.\n",
    "\n",
    "For more on naming schemes see this [quick reference](https://curc.readthedocs.io/en/latest/programming/coding-best-practices.html#variable-naming-conventions)."
   ]
  },
  {
   "cell_type": "code",
   "execution_count": 35,
   "id": "ec0b3ba2-3d23-4e1b-b9e7-f914f9ad8692",
   "metadata": {
    "tags": []
   },
   "outputs": [
    {
     "name": "stdout",
     "output_type": "stream",
     "text": [
      "hello class\n",
      "in the lesson below, run the code cells to see the results (they will only show if they are being printed). Also, feel free to modify the code as you want.\n"
     ]
    }
   ],
   "source": [
    "first_statement = 'hello class'\n",
    "second_statement = 'in the lesson below, run the code cells to see the results (they will only show if they are being printed). Also, feel free to modify the code as you want.'\n",
    "\n",
    "print(first_statement)\n",
    "print(second_statement)"
   ]
  },
  {
   "cell_type": "markdown",
   "id": "c0c9b167-21da-4ff2-9245-bc23be4c8cf4",
   "metadata": {},
   "source": [
    "Run the above cell. It should output the result of your print statements. In the following sections, you are encouraged to run the code cells, edit, and interact with them as needed."
   ]
  },
  {
   "cell_type": "markdown",
   "id": "172da945-ac1b-4b33-9c24-6efb53549306",
   "metadata": {},
   "source": [
    "### Numbers\n",
    "\n",
    "Numbers can come in different forms!"
   ]
  },
  {
   "cell_type": "code",
   "execution_count": 36,
   "id": "fb3f1363-fba1-47eb-9905-c0239296dea4",
   "metadata": {},
   "outputs": [],
   "source": [
    "x = 99\n",
    "y = 4.9"
   ]
  },
  {
   "cell_type": "code",
   "execution_count": 37,
   "id": "72e8489d-874c-4862-89f2-531f1d24d867",
   "metadata": {},
   "outputs": [
    {
     "name": "stdout",
     "output_type": "stream",
     "text": [
      "99\n"
     ]
    }
   ],
   "source": [
    "type(x)\n",
    "print (x)\n"
   ]
  },
  {
   "cell_type": "code",
   "execution_count": 38,
   "id": "1a152cc4-ec6c-4bd1-8059-953e9d2d0b0d",
   "metadata": {},
   "outputs": [
    {
     "data": {
      "text/plain": [
       "float"
      ]
     },
     "execution_count": 38,
     "metadata": {},
     "output_type": "execute_result"
    }
   ],
   "source": [
    "type(y)"
   ]
  },
  {
   "cell_type": "code",
   "execution_count": 39,
   "id": "932e7524-5021-416b-a727-561c62b6f4ac",
   "metadata": {},
   "outputs": [
    {
     "data": {
      "text/plain": [
       "float"
      ]
     },
     "execution_count": 39,
     "metadata": {},
     "output_type": "execute_result"
    }
   ],
   "source": [
    "z = x+y\n",
    "type(z)"
   ]
  },
  {
   "cell_type": "markdown",
   "id": "3241ed83-4c09-4454-8265-8b02dd531a35",
   "metadata": {
    "tags": []
   },
   "source": [
    "1. Beyond the fact that they are different values, What is the main difference between x and y? What data type do we get when adding them together? Write your answer in the Markdown cell below. (/2)"
   ]
  },
  {
   "cell_type": "markdown",
   "id": "893d57ad",
   "metadata": {},
   "source": [
    "**Answer:**  \n",
    "The main difference between `x` and `y` is their data type:  \n",
    "- `x = 99` is an **integer (`int`)**, which represents whole numbers.  \n",
    "- `y = 4.9` is a **floating-point number (`float`)**, which represents numbers with decimals.  \n",
    "\n",
    "When we add them together (`z = x + y`), Python converts the integer to a float to preserve the decimal.  \n",
    "The result `z` is therefore of type **`float`**.\n"
   ]
  },
  {
   "cell_type": "markdown",
   "id": "35648578-b109-449f-85d8-4b5e51e94921",
   "metadata": {
    "tags": []
   },
   "source": [
    "### Booleans\n",
    "\n",
    "Booleans are boring: True or False? Well, They can be useful sometimes."
   ]
  },
  {
   "cell_type": "code",
   "execution_count": 40,
   "id": "cda829c6-416e-4b60-9ef4-dd09e3656efe",
   "metadata": {},
   "outputs": [],
   "source": [
    "i_am_false = False\n",
    "i_am_true = True"
   ]
  },
  {
   "cell_type": "markdown",
   "id": "3bc3d53a-87a1-4139-9eac-feb07feeab89",
   "metadata": {},
   "source": [
    "Logical tests will result in a boolean. For example:"
   ]
  },
  {
   "cell_type": "code",
   "execution_count": 41,
   "id": "1ce9e0b8-c18a-4755-acd3-b46102b90cad",
   "metadata": {},
   "outputs": [
    {
     "data": {
      "text/plain": [
       "False"
      ]
     },
     "execution_count": 41,
     "metadata": {},
     "output_type": "execute_result"
    }
   ],
   "source": [
    "i_am_false == i_am_true"
   ]
  },
  {
   "cell_type": "code",
   "execution_count": 42,
   "id": "20495b1f-9c74-43c0-b5d7-792efb0ebabc",
   "metadata": {},
   "outputs": [
    {
     "name": "stdout",
     "output_type": "stream",
     "text": [
      "False\n"
     ]
    }
   ],
   "source": [
    "is_this_true = i_am_false == i_am_true\n",
    "print(is_this_true)"
   ]
  },
  {
   "cell_type": "markdown",
   "id": "33ff0e08-cfb0-46ca-a390-08f34f007e5a",
   "metadata": {},
   "source": [
    "2. What is the difference between the two types of equal signs (=,==) above? How are they being used differently? Write your answer in the Markdown cell below. (/1)"
   ]
  },
  {
   "cell_type": "markdown",
   "id": "d3a3a2d1-496b-4445-a499-e9e0e50d3d7c",
   "metadata": {},
   "source": [
    "**Answer:**  \n",
    "The single equals sign (`=`) is the **assignment operator**. It assigns a value to a variable (e.g., `x = 5` stores the value 5 in `x`).  \n",
    "\n",
    "The double equals sign (`==`) is the **equality comparison operator**. It checks whether two values are equal and returns a boolean result (`True` or `False`).  \n"
   ]
  },
  {
   "cell_type": "code",
   "execution_count": 43,
   "id": "e0fbee49-6670-4a07-95e1-622fec44b657",
   "metadata": {},
   "outputs": [],
   "source": [
    "x = False\n",
    "y = \"False\""
   ]
  },
  {
   "cell_type": "code",
   "execution_count": 44,
   "id": "46a4bc1c-1dea-4421-a272-d4b4f4dc4fda",
   "metadata": {},
   "outputs": [
    {
     "data": {
      "text/plain": [
       "(bool, str)"
      ]
     },
     "execution_count": 44,
     "metadata": {},
     "output_type": "execute_result"
    }
   ],
   "source": [
    "type(x), type(y)"
   ]
  },
  {
   "cell_type": "markdown",
   "id": "634075ad-6a7f-4b30-8a62-f006141e7dea",
   "metadata": {},
   "source": [
    "3. What is the difference difference between x and y above? Write your answer in the Markdown cell that follows. (/1)"
   ]
  },
  {
   "cell_type": "markdown",
   "id": "662f821a-3166-4e32-85df-ee522ad99244",
   "metadata": {},
   "source": [
    "**Answer:**  \n",
    "The variable `x = False` is a **boolean** (`bool`) value, which represents logical truth values (`True` or `False`).  \n",
    "\n",
    "The variable `y = \"False\"` is a **string** (`str`) containing the characters F-a-l-s-e. It is just text, not a boolean value.  \n"
   ]
  },
  {
   "cell_type": "markdown",
   "id": "396c4188-d72d-4eee-a517-53c09a3c67c0",
   "metadata": {},
   "source": [
    "### Strings\n",
    "\n",
    "Strings are text data. Strings can be declared with either '' or \"\" marks."
   ]
  },
  {
   "cell_type": "code",
   "execution_count": 45,
   "id": "1086c0de-ff0d-421a-80ae-b4929c1e9834",
   "metadata": {},
   "outputs": [
    {
     "data": {
      "text/plain": [
       "True"
      ]
     },
     "execution_count": 45,
     "metadata": {},
     "output_type": "execute_result"
    }
   ],
   "source": [
    "'I am a string' == \"I am a string\""
   ]
  },
  {
   "cell_type": "markdown",
   "id": "6541ac13-d09f-4a15-9f3c-597d5bc0330c",
   "metadata": {},
   "source": [
    "4. In the code cell below, declare an empty string using a variable name that describes this fact (/2)"
   ]
  },
  {
   "cell_type": "code",
   "execution_count": null,
   "id": "f880d6fd-ce28-4a13-94dd-0b8ef79b77c6",
   "metadata": {},
   "outputs": [
    {
     "ename": "SyntaxError",
     "evalue": "invalid syntax (346270115.py, line 1)",
     "output_type": "error",
     "traceback": [
      "  \u001b[36mCell\u001b[39m\u001b[36m \u001b[39m\u001b[32mIn[46]\u001b[39m\u001b[32m, line 1\u001b[39m\n\u001b[31m    \u001b[39m\u001b[31m**Answer:**\u001b[39m\n    ^\n\u001b[31mSyntaxError\u001b[39m\u001b[31m:\u001b[39m invalid syntax\n"
     ]
    }
   ],
   "source": [
    "An empty string is written with a pair of quotes with nothing inside. For example:  \n",
    "\n",
    "empty_string = \"\"\n"
   ]
  },
  {
   "cell_type": "markdown",
   "id": "d42bb314-db28-41f5-bab4-1f4418234fd5",
   "metadata": {},
   "source": [
    "Strings have many built-in methods (all native Python objects do). But in this lab we will be exploring these a little further than other built-in methods.\n",
    "\n",
    "For example, you can slice a string by selecting specific characters inside it using the index of its position in the string:"
   ]
  },
  {
   "cell_type": "code",
   "execution_count": null,
   "id": "7e472ece-2ec8-4f6a-8ff5-c682cd80bf5b",
   "metadata": {},
   "outputs": [
    {
     "name": "stdout",
     "output_type": "stream",
     "text": [
      "N\n"
     ]
    }
   ],
   "source": [
    "date = \"Nov 1, 2021\"\n",
    "first_char = date[0]\n",
    "\n",
    "print(first_char)"
   ]
  },
  {
   "cell_type": "markdown",
   "id": "d2ea70e3-2a47-463f-8794-b7dbc7a568ff",
   "metadata": {},
   "source": [
    "5. In the code cell below, print the character 'v' from *date* (/1)"
   ]
  },
  {
   "cell_type": "code",
   "execution_count": null,
   "id": "519d3a2a-62d4-4ce6-9b73-3b2560983228",
   "metadata": {},
   "outputs": [
    {
     "ename": "SyntaxError",
     "evalue": "invalid syntax (4140983862.py, line 1)",
     "output_type": "error",
     "traceback": [
      "  \u001b[36mCell\u001b[39m\u001b[36m \u001b[39m\u001b[32mIn[13]\u001b[39m\u001b[32m, line 1\u001b[39m\n\u001b[31m    \u001b[39m\u001b[31mStrings in Python are indexed starting at 0.\u001b[39m\n                      ^\n\u001b[31mSyntaxError\u001b[39m\u001b[31m:\u001b[39m invalid syntax\n"
     ]
    }
   ],
   "source": [
    "Strings in Python are indexed starting at 0.  \n",
    "For the string `date = \"Nov 1, 2021\"`, the character `'v'` is in position 2 (index `1` is `'o'`, index `2` is `'v'`).  \n",
    "\n",
    "So the code is:  \n",
    "print(date[2])"
   ]
  },
  {
   "cell_type": "markdown",
   "id": "286e7160-0a8d-49a1-a06b-77774488d144",
   "metadata": {},
   "source": [
    "You can also slice ranges of string characters."
   ]
  },
  {
   "cell_type": "code",
   "execution_count": 49,
   "id": "8ab9c10f-96b0-444d-a4bc-ba7bd9377a60",
   "metadata": {},
   "outputs": [
    {
     "name": "stdout",
     "output_type": "stream",
     "text": [
      "21 renter John Smith\n"
     ]
    }
   ],
   "source": [
    "profile = \"21, renter, John Smith\"\n",
    "\n",
    "age = profile[0:2]\n",
    "housing_status = profile[4:10]\n",
    "name = profile[12:]\n",
    "\n",
    "#concatenate variables inside a print statement like so\n",
    "print(age,housing_status,name)"
   ]
  },
  {
   "cell_type": "markdown",
   "id": "77668682-d7ef-4308-8552-cc5f24385c4e",
   "metadata": {},
   "source": [
    "6. Above, *name* was assigned the string \"John Smith\" by selecting the characters located as of position 12. What number could you have written after the colon (:) to obtain the same string? Why might the above notation be more useful in cases where *profile* always ends with someone's (anyone's) name? Write your answers in the cell below (/2)"
   ]
  },
  {
   "cell_type": "code",
   "execution_count": null,
   "id": "486f5bdb-b873-432d-abd3-b13f7ec74838",
   "metadata": {},
   "outputs": [
    {
     "ename": "SyntaxError",
     "evalue": "invalid syntax (339036685.py, line 1)",
     "output_type": "error",
     "traceback": [
      "  \u001b[36mCell\u001b[39m\u001b[36m \u001b[39m\u001b[32mIn[50]\u001b[39m\u001b[32m, line 1\u001b[39m\n\u001b[31m    \u001b[39m\u001b[31m**Answer:**\u001b[39m\n    ^\n\u001b[31mSyntaxError\u001b[39m\u001b[31m:\u001b[39m invalid syntax\n"
     ]
    }
   ],
   "source": [
    "You could write `profile[12:]` or `profile[12:len(profile)]`. Both return `\"John Smith\"`.  \n",
    "\n",
    "Using only `profile[12:]` is more useful because it will always take all the remaining characters until the end of the string, no matter how long the name is. This way, the code works even if the name changes in length.  \n"
   ]
  },
  {
   "cell_type": "markdown",
   "id": "60ca5ca9-82c6-4f4a-bab9-a49e37d9fe66",
   "metadata": {},
   "source": []
  },
  {
   "cell_type": "markdown",
   "id": "d5b9c9b1-889d-44d3-bf57-057cbc017305",
   "metadata": {},
   "source": [
    "You can also use the built-in split method to chunk a string into different pieces based on a delimiter."
   ]
  },
  {
   "cell_type": "code",
   "execution_count": 51,
   "id": "cc0834a7-d54f-40fa-a574-7477e56b04d9",
   "metadata": {},
   "outputs": [
    {
     "name": "stdout",
     "output_type": "stream",
     "text": [
      "['21', ' renter', ' John Smith']\n"
     ]
    }
   ],
   "source": [
    "attributes = profile.split(',')\n",
    "print(attributes)"
   ]
  },
  {
   "cell_type": "markdown",
   "id": "cd1ea075-3fb1-406a-b870-472222e2e06e",
   "metadata": {},
   "source": [
    "7. What object type is *attributes*? Use the *type* command in the code cell below to find out. (/1)"
   ]
  },
  {
   "cell_type": "code",
   "execution_count": 52,
   "id": "34e42fa8-baed-4a9c-a7a5-c6df1e7c9a3b",
   "metadata": {},
   "outputs": [
    {
     "data": {
      "text/plain": [
       "list"
      ]
     },
     "execution_count": 52,
     "metadata": {},
     "output_type": "execute_result"
    }
   ],
   "source": [
    "type (attributes)\n"
   ]
  },
  {
   "cell_type": "markdown",
   "id": "aadac038-bab9-4c2d-a0f9-f474de95df2d",
   "metadata": {},
   "source": [
    "8. Finally, in the code cell below, print out *profile* in all uppercase and with all commas replaced by semicolons (;). Use [this documentation](https://www.w3schools.com/python/python_ref_string.asp) as a reference to guide you. (/2)"
   ]
  },
  {
   "cell_type": "code",
   "execution_count": 54,
   "id": "efa8f204-98a0-4cc8-a0dc-925311aa58be",
   "metadata": {},
   "outputs": [
    {
     "name": "stdout",
     "output_type": "stream",
     "text": [
      "21; RENTER; JOHN SMITH\n"
     ]
    }
   ],
   "source": [
    "\n",
    "print(profile.upper().replace(\",\", \";\"))\n"
   ]
  },
  {
   "cell_type": "markdown",
   "id": "7e57d922-f846-4599-bbc8-c42d556e191d",
   "metadata": {
    "tags": []
   },
   "source": [
    "### Lists\n",
    "\n",
    "Lists can contain any number of objects of any type. Lists are a very versatile data type which you will find yourself using often."
   ]
  },
  {
   "cell_type": "code",
   "execution_count": 57,
   "id": "fdc5a64f-2b0e-4e77-8d8b-02afe833e480",
   "metadata": {},
   "outputs": [],
   "source": [
    "#using [] will create an empty list\n",
    "x = []"
   ]
  },
  {
   "cell_type": "markdown",
   "id": "bb91ab71-74ae-4e72-8f29-006439586b60",
   "metadata": {},
   "source": [
    "In the code cell below, there are some examples of lists and some comments that guide you in understanding them. Comments are also used in these labs for guidance, much like this cleaner looking Markdown cell."
   ]
  },
  {
   "cell_type": "code",
   "execution_count": 55,
   "id": "47788111-37f3-45e4-b03a-1b3b66417653",
   "metadata": {},
   "outputs": [
    {
     "name": "stdout",
     "output_type": "stream",
     "text": [
      "['a', 45, '$ 89', True, '21, renter, John Smith', None, 'pay attention', [1, 2, 3, 4], 99.9]\n"
     ]
    },
    {
     "data": {
      "text/plain": [
       "NoneType"
      ]
     },
     "execution_count": 55,
     "metadata": {},
     "output_type": "execute_result"
    }
   ],
   "source": [
    "#below we re-declare x as a rather eclectic list\n",
    "x = [\"a\",45,\"$ 89\",True,profile,None,\"pay attention\",[1,2,3,4],99.9]\n",
    "\n",
    "#As you can see, lists can contain variables, as well as other lists.\n",
    "#They can basically contain anything, in any order.\n",
    "\n",
    "#You can write them out differently as well, for improved legibility.\n",
    "#Let's declare this list once more, this time by separating each item by a new line.\n",
    "x = [\n",
    "    \"a\"\n",
    "     ,45\n",
    "     ,\"$ 89\"\n",
    "     ,True\n",
    "     ,profile\n",
    "     ,None\n",
    "     ,\"pay attention\"\n",
    "     ,[1,2,3,4]\n",
    "     ,99.9\n",
    "    ]\n",
    "\n",
    "print(x)\n",
    "\n",
    "#Note the item inside x called None. This is not a string with text \"None\" but is an object of type None. This is also a data type you will encounter in Python!\n",
    "nothing = None\n",
    "type(nothing)"
   ]
  },
  {
   "cell_type": "markdown",
   "id": "ea3976f7-f551-4835-8897-e7106f03f8b6",
   "metadata": {},
   "source": [
    "9. Lists have several built-in methods. In the code cell below, using the hash (#) symbol, add comments below each operation describing what exactly you think the list method is doing. (/2)"
   ]
  },
  {
   "cell_type": "code",
   "execution_count": 100,
   "id": "cdf84406-9c4b-41b5-a88d-0e9f724a788b",
   "metadata": {},
   "outputs": [
    {
     "ename": "AttributeError",
     "evalue": "'tuple' object has no attribute 'append'",
     "output_type": "error",
     "traceback": [
      "\u001b[31m---------------------------------------------------------------------------\u001b[39m",
      "\u001b[31mAttributeError\u001b[39m                            Traceback (most recent call last)",
      "\u001b[36mCell\u001b[39m\u001b[36m \u001b[39m\u001b[32mIn[100]\u001b[39m\u001b[32m, line 1\u001b[39m\n\u001b[32m----> \u001b[39m\u001b[32m1\u001b[39m \u001b[43mx\u001b[49m\u001b[43m.\u001b[49m\u001b[43mappend\u001b[49m(\u001b[33m\"\u001b[39m\u001b[33mnew item\u001b[39m\u001b[33m\"\u001b[39m)  \n\u001b[32m      2\u001b[39m \u001b[38;5;66;03m# Adds \"new item\" to the end of the list.\u001b[39;00m\n\u001b[32m      4\u001b[39m x.remove(\u001b[33m\"\u001b[39m\u001b[33ma\u001b[39m\u001b[33m\"\u001b[39m)  \n",
      "\u001b[31mAttributeError\u001b[39m: 'tuple' object has no attribute 'append'"
     ]
    }
   ],
   "source": [
    "x.append(\"new item\")  \n",
    "# Adds \"new item\" to the end of the list.\n",
    "\n",
    "x.remove(\"a\")  \n",
    "# Removes the first occurrence of the value \"a\" from the list.\n",
    "\n",
    "x.insert(1, \"inserted item\")  \n",
    "# Inserts \"inserted item\" at index position 1, shifting the rest of the list.\n",
    "\n",
    "x.pop()  \n",
    "# Removes and returns the last item from the list.\n",
    "\n",
    "x.sort()  \n",
    "# Sorts the list in ascending order (only works if the list elements are of the same type, e.g., all numbers or all strings).\n",
    "\n",
    "x.reverse()  \n",
    "# Reverses the order of the list in place (first becomes last, last becomes first).\n",
    "\n",
    "len(x)  \n",
    "# Returns the number of items in the list.\n",
    "\n"
   ]
  },
  {
   "cell_type": "markdown",
   "id": "11d7467c-c052-4050-ab68-dc2b09e66278",
   "metadata": {},
   "source": [
    "As you might have noticed, these list methods operate in-place on the list from which they're being called. This means you don't need to assign the result to a new variable: it does the work directly on the list you called it from, permanently changing that list."
   ]
  },
  {
   "cell_type": "markdown",
   "id": "0a7839e0-cefd-47aa-88fe-80a97311fe88",
   "metadata": {
    "tags": []
   },
   "source": [
    "### Sets\n",
    "\n",
    "[Sets](https://docs.python.org/3.8/library/stdtypes.html#set-types-set-frozenset) are more rarely used in our context. They are **unordered**, list-like objects whose contained objects must be distinct, meaning there can be no duplicates. Like lists, sets are mutable (you can change what's inside it once its been created), but they do not contain the same number of built-in functions as lists do.\n",
    "\n",
    "One great use of sets is for removing duplicates from a list (by turning it into a set)."
   ]
  },
  {
   "cell_type": "code",
   "execution_count": null,
   "id": "935a489d-802d-4fc7-b19e-3874bc99b9c6",
   "metadata": {},
   "outputs": [],
   "source": [
    "the_list = [1,6,3,6,3,6,3,5,9,9,1]\n",
    "print(\"Check out this list: \",the_list)\n",
    "\n",
    "new_set = set(the_list)\n",
    "print(\"Here is a set of distinct values: \",new_set)\n",
    "print(\"We can see that it is a set here: \",type(new_set))\n",
    "\n",
    "new_list = list(new_set)\n",
    "print(\"Our new list of distinct values: \",new_list)"
   ]
  },
  {
   "cell_type": "markdown",
   "id": "fc71251e-1036-4991-ad72-cb181b3a4b55",
   "metadata": {},
   "source": [
    "### Tuples"
   ]
  },
  {
   "cell_type": "markdown",
   "id": "7b21401d-6b98-4a50-9329-635a1e0ef9a0",
   "metadata": {},
   "source": [
    "Tuples are like lists, but they are immuatable (frozen), and can only hold one kind of object. Unlike sets, however, they allow duplicates."
   ]
  },
  {
   "cell_type": "code",
   "execution_count": 63,
   "id": "0fce97bc-4d2e-444e-ac38-5655b7112e2f",
   "metadata": {},
   "outputs": [
    {
     "name": "stdout",
     "output_type": "stream",
     "text": [
      "<class 'tuple'>\n"
     ]
    }
   ],
   "source": [
    "# using the () will create an empty tuple\n",
    "x = ()\n",
    "print(type(x))"
   ]
  },
  {
   "cell_type": "markdown",
   "id": "0489a358-4963-4b03-a5ee-9dce3bd4584d",
   "metadata": {},
   "source": [
    "Tuples are great for creating objects you know you don't want to ever be changed. For example, they are great for holding coordinates! By being restrictive (in this case, using a tuple instead of a list), you narrow the scope of possibility for the variable, limiting what can be done to it and therefore having tighter control over it. In other words, it allows for cleaner and more predictable code."
   ]
  },
  {
   "cell_type": "code",
   "execution_count": 64,
   "id": "5df4f6d9-f1b4-426e-b964-2a6db92423db",
   "metadata": {},
   "outputs": [
    {
     "name": "stdout",
     "output_type": "stream",
     "text": [
      "(45.49980145207762, -73.57467364738282)\n"
     ]
    }
   ],
   "source": [
    "loc_montreal = (45.49980145207762, -73.57467364738282)\n",
    "print(loc_montreal)"
   ]
  },
  {
   "cell_type": "markdown",
   "id": "26c131f6-ad72-4e35-8b87-47cd0f4e1f6f",
   "metadata": {},
   "source": [
    "### Dictionaries\n",
    "\n",
    "Since Python 3.6, dicts - like lists - are **ordered** (this means that the order in which dictionary elements were created is the order in which they remain, that is, until you choose to re-order them).\n",
    "\n",
    "Dictionaries are like lists in that they are mutable (changeable), flexible containers that can hold just about anything. The difference with lists though is that your elements can be labeled. This means that you can access items in a dictionary using a label, instead of using an index like you have seen with lists (e.g. list[position]).\n",
    "\n",
    "In dictionaries, the label is called the *key*, whereas the item it points to is called its *value*."
   ]
  },
  {
   "cell_type": "code",
   "execution_count": 59,
   "id": "6b5c79cc-d816-4eec-89ad-64101e5ca736",
   "metadata": {
    "tags": []
   },
   "outputs": [
    {
     "name": "stdout",
     "output_type": "stream",
     "text": [
      "<class 'dict'>\n"
     ]
    }
   ],
   "source": [
    "# using the {} will create an empty dictionary\n",
    "x = {}\n",
    "print(type(x))"
   ]
  },
  {
   "cell_type": "markdown",
   "id": "9cfc404c-996d-4c65-93f7-6422394aeb8e",
   "metadata": {},
   "source": [
    "Let's create a dictionary.\n",
    "\n",
    "John is a potential intern at Via Rail. You've scraped their LinkedIn profile (for some reason...), and you've structured some of the data retrieved as follows:"
   ]
  },
  {
   "cell_type": "code",
   "execution_count": 60,
   "id": "b48bf09c-155b-4f0e-9c8b-238388c57d03",
   "metadata": {},
   "outputs": [
    {
     "name": "stdout",
     "output_type": "stream",
     "text": [
      "{'name': 'John Smith', 'age': 21, 'hometown': 'Montreal, QC'}\n"
     ]
    }
   ],
   "source": [
    "profile_john = {\"name\": \"John Smith\", \"age\": 21, \"hometown\": \"Montreal, QC\"}\n",
    "\n",
    "print(profile_john)"
   ]
  },
  {
   "cell_type": "markdown",
   "id": "fea03fd2-717b-4863-99c7-8eac0bfa8876",
   "metadata": {},
   "source": [
    "You can access a particular value in a dict by selecting its key:"
   ]
  },
  {
   "cell_type": "code",
   "execution_count": 61,
   "id": "48d3ea34-7db8-4952-abed-709195fb48cf",
   "metadata": {},
   "outputs": [
    {
     "name": "stdout",
     "output_type": "stream",
     "text": [
      "John Smith\n"
     ]
    }
   ],
   "source": [
    "name_john = profile_john[\"name\"]\n",
    "print(name_john)"
   ]
  },
  {
   "cell_type": "code",
   "execution_count": 62,
   "id": "6a433f61-2d46-4492-a1ce-1c04dc67b874",
   "metadata": {},
   "outputs": [
    {
     "name": "stdout",
     "output_type": "stream",
     "text": [
      "{'name': 'John Smith', 'age': 21, 'hometown': 'Montreal, QC', 'religion': 'None'}\n"
     ]
    }
   ],
   "source": [
    "#to add an item to a dict, simply declare the new key with its value as follows:\n",
    "profile_john['religion'] = 'None'\n",
    "\n",
    "print(profile_john)"
   ]
  },
  {
   "cell_type": "markdown",
   "id": "b1777fb5-e5d3-4d26-85a3-0673d908251f",
   "metadata": {},
   "source": [
    "10. In the code cell below, print the following sentence using the three values found in *profile_john*: (/2)\n",
    "\n",
    "\"Their name is John, they're 21, and they come from Montreal, QC. Religion? None.\"\n",
    "\n",
    "Check back on your Python string methods for help formatting this print sentence."
   ]
  },
  {
   "cell_type": "code",
   "execution_count": 69,
   "id": "021a28c1-9916-4a57-9b07-35b0bc75f72f",
   "metadata": {},
   "outputs": [
    {
     "name": "stdout",
     "output_type": "stream",
     "text": [
      "Their name is John Smith, they’re 21, and they come from Montreal, QC. Religion? None.\n"
     ]
    }
   ],
   "source": [
    "print(f\"Their name is {profile_john['name']}, they’re {profile_john['age']}, and they come from {profile_john['hometown']}. Religion? {profile_john['religion']}.\")\n"
   ]
  },
  {
   "cell_type": "markdown",
   "id": "ef89be3c-8ce5-4481-8373-5a130a14f2f0",
   "metadata": {
    "tags": []
   },
   "source": [
    "## Control flow\n",
    "\n",
    "### Conditional statements (if, elif, else)\n",
    "\n",
    "Conditional statements are very useful. They do a logical test, and if that test is true, allow the flow to enter its codeblock. Otherwise, they will skip whatever operations are nested within them and move on. You can stack conditional statements to see if data matches a series of conditions. Think of it as an investigation, where you ask a bunch of yes/no questions, and choose a certain follow-up question in accordance with the answer you got."
   ]
  },
  {
   "cell_type": "code",
   "execution_count": 73,
   "id": "f0df7771-992f-4281-8e5c-d98dd438e64a",
   "metadata": {},
   "outputs": [
    {
     "name": "stdout",
     "output_type": "stream",
     "text": [
      "OK great\n"
     ]
    }
   ],
   "source": [
    "my_variable = 'The world is BIIIIG'\n",
    "\n",
    "if 'i' in my_variable.lower():\n",
    "    print('OK great')\n",
    "elif my_variable[0:3] == 'The':\n",
    "    print(\"'The' is a funny word, isn't it?\")\n",
    "else:\n",
    "    print(\"Fuhgettaboutit\")\n",
    "\n"
   ]
  },
  {
   "cell_type": "markdown",
   "id": "397d1a12-cb20-4590-86ac-21e173ce8587",
   "metadata": {
    "tags": []
   },
   "source": [
    "11. Modify *my_variable* in the code cell above so that it prints \"'The' is a funny word, isn't it?\" instead of \"OK great\" (/1)"
   ]
  },
  {
   "cell_type": "code",
   "execution_count": 82,
   "id": "f87bf801-195e-4df9-96d3-97a7d7bff579",
   "metadata": {},
   "outputs": [
    {
     "name": "stdout",
     "output_type": "stream",
     "text": [
      "'The' is a funny word, isn't it?\n"
     ]
    }
   ],
   "source": [
    "my_variable = 'The world'\n",
    "\n",
    "if 'i' in my_variable.lower():\n",
    "    print('OK great')\n",
    "elif my_variable[0:3] == 'The':\n",
    "    print(\"'The' is a funny word, isn't it?\")\n",
    "else:\n",
    "    print(\"Fuhgettaboutit\")"
   ]
  },
  {
   "cell_type": "markdown",
   "id": "eb5017ab-0576-4634-91d7-31d261d16316",
   "metadata": {},
   "source": [
    "12. Modify *my_variable* so that it prints \"Fuhgettaboutit\" (/1)"
   ]
  },
  {
   "cell_type": "code",
   "execution_count": 78,
   "id": "089bb2dd-c27d-480f-af1a-0053c8003b1e",
   "metadata": {},
   "outputs": [
    {
     "name": "stdout",
     "output_type": "stream",
     "text": [
      "Fuhgettaboutit\n"
     ]
    }
   ],
   "source": [
    "my_variable = 'world'\n",
    "\n",
    "if 'i' in my_variable.lower():\n",
    "    print('OK great')\n",
    "elif my_variable[0:3] == 'The':\n",
    "    print(\"'The' is a funny word, isn't it?\")\n",
    "else:\n",
    "    print(\"Fuhgettaboutit\")"
   ]
  },
  {
   "cell_type": "markdown",
   "id": "a6bb930c-50a6-4825-9f20-c608569c6063",
   "metadata": {},
   "source": [
    "### For loops\n",
    "\n",
    "Writing *for* loops in Python is easy. Each iteration in the loop below declares a string in the list as the variable *my_letter* and then prints it if its length is equal to 1."
   ]
  },
  {
   "cell_type": "code",
   "execution_count": null,
   "id": "687d6dd5-8d40-4d19-b99a-44a5fce33243",
   "metadata": {},
   "outputs": [],
   "source": [
    "my_list = ['a','b','a','b','d','d','g','h','a','h','sdf','a','fsafd','sdfdsf']\n",
    "\n",
    "for my_letter in my_list:\n",
    "    if len(my_letter) == 1:\n",
    "        print(my_letter)"
   ]
  },
  {
   "cell_type": "markdown",
   "id": "b599725c-f551-48d8-a632-84413963900f",
   "metadata": {},
   "source": [
    "13. In the code cell below, write a for loop that prints only numbers that are less than 10 from the list you are provided with. Note that we did not go over [arithmetic operators](https://www.w3schools.com/python/gloss_python_arithmetic_operators.asp) (+,-,\\*,/,>,<,==) but they are fairly universal... (/2)"
   ]
  },
  {
   "cell_type": "code",
   "execution_count": 83,
   "id": "a5dbdfb6-8f2d-4ecb-813f-6c9cae7c422d",
   "metadata": {},
   "outputs": [
    {
     "name": "stdout",
     "output_type": "stream",
     "text": [
      "4\n",
      "4\n",
      "6\n",
      "2\n",
      "0\n",
      "4\n",
      "9\n",
      "1\n",
      "0\n"
     ]
    }
   ],
   "source": [
    "my_numberlist = [123,4,76,46,34,4,6,2,0,12,65,4,9,1,0,199,19000]\n",
    "for num in my_numberlist:\n",
    "    if num < 10:\n",
    "        print(num)"
   ]
  },
  {
   "cell_type": "markdown",
   "id": "85397a7c-d1f1-4d94-a806-e32e53720c02",
   "metadata": {},
   "source": [
    "---"
   ]
  },
  {
   "cell_type": "markdown",
   "id": "54b87f76-c7d4-479d-a3b1-aded7e03d312",
   "metadata": {},
   "source": [
    "# Practice Task\n",
    "## Working with Via Rail as a junior data specialist\n",
    "\n",
    "You're at a new job with Via Rail, and you're pretty good at Python. You have been given a messy inventory of stations by a supervisor for the entirety of Canada. The supervisor isn't data legible and doesn't realize how much of a mess the data are. They have a cartography intern who isn't very savvy and would like a list of cities without the state name (or any other clutter that may be associated) to be used as labels for their hopefully good looking PDF maps... Even though this mapmaker could probably figure this out themselves, they clearly can't! Further, since interns come and go, the next intern might ask this of you again for another map in a couple months. Also, you can't guarantee that stations will always be in the same cities, especially given a recent boost in federal funding towards passenger rail infrastructure, it's likely that the number of stations will change over time.\n",
    "\n",
    "You could clean this data in Excel, but that would mean having to do it again, manually, the next time, and again the time after that. Also, you really don't want to be manually keeping track of new station names.\n",
    "\n",
    "You conclude that you should write a small script that can handle new incoming data and output clean city names for these ineffective mapping interns, but also to clean up the messy data you are regularly receiving from your clumsy supervisor so you can do more effective analyses with them. Basically, you will write a small algorithm that will automate a simple data wrangling task, mostly involving strings.\n",
    "\n",
    "The list below is a sample of 10 stations from [open-source data](https://www.viarail.ca/en/developer-resources) of all Via Rail's stations. The data was intentionally modified here to create a difficult but very realistic scenario!\n",
    "\n",
    "![Via Rail's stations in Canada](https://www.viarail.ca/sites/all/files/media/destinations/images/img-carte-canada-quebec-ontario-en.svg)\n",
    "\n",
    "*A map of Via Rail's stations in Canada* ([source](https://www.viarail.ca/en/explore-our-destinations/trains/ontario-and-quebec))"
   ]
  },
  {
   "cell_type": "markdown",
   "id": "1fbb21db-d000-4c2f-a432-d40730383cc7",
   "metadata": {},
   "source": [
    "14. In a new cell below, write a Python algorithm that will create a new list containing only the city names and print that list using a print statement. Everything you need has been demonstrated to you previously in this lab. Your code shouldn't be more than a couple lines maximum. (/4)"
   ]
  },
  {
   "cell_type": "code",
   "execution_count": 84,
   "id": "dd6bff46-581e-49b6-a8ae-7ac3a89e9220",
   "metadata": {},
   "outputs": [
    {
     "name": "stdout",
     "output_type": "stream",
     "text": [
      "['Aeroport Montreal Pierre-Elliott Trudeau', 'Aldershot', 'Alexandria', 'Amqui', 'Amyot', 'Anjou (EXO)', 'Armstrong', 'Auden', 'Azilda', 'Belleville']\n"
     ]
    }
   ],
   "source": [
    "sample_stations = [\n",
    "    \"555,XYUL,Aeroport Montreal Pierre-Elliott Trudeau,-73.75183367;45.45698788\",\n",
    "\"600,ALDR,Aldershot,-79.855009;43.312886\",\n",
    "\"344,ALEX,Alexandria,-74.639672;45.31805\",\n",
    "\"221,AMQU,Amqui,-67.436172;48.46626\",\n",
    "\"636,AMYO,Amyot,-84.95412177;48.4828773\",\n",
    "\"633,ANJO,Anjou (EXO),-73.59680183;45.617796\",\n",
    "\"106,ARMG,Armstrong,-89.037603;50.301424\",\n",
    "\"102,AUDN,Auden,-87.88987518;50.22916625\",\n",
    "\"220,AZIL,Azilda,-81.138044;46.564107\",\n",
    "\"415,BLVL,Belleville,-77.37455;44.17961\",\n",
    "]\n",
    "city_names = [station.split(',')[2] for station in sample_stations]\n",
    "print(city_names)"
   ]
  },
  {
   "cell_type": "code",
   "execution_count": null,
   "id": "5a517a08",
   "metadata": {},
   "outputs": [],
   "source": []
  },
  {
   "cell_type": "markdown",
   "id": "e613db83-df1e-48fc-8d7e-178231239ef6",
   "metadata": {},
   "source": [
    "You would also like to create a dictionary to store this data so that you can do analyses with it later. Your dictionary labels should probably be the Station ID, since these are unique values, and you do not risk running into an issue with two city names being the same. Doing so will make sure you don't have any duplicate keys in your dictionary. Each key in this dictionary should contain all the relevant info that you're able to parse from the somewhat messy list provided above.\n",
    "\n",
    "You imagine your dictionary as formatted like the following (pay careful attention to all its components and their respective types):"
   ]
  },
  {
   "cell_type": "code",
   "execution_count": null,
   "id": "dbd69412-d9ed-4221-9306-3b27253efb51",
   "metadata": {},
   "outputs": [],
   "source": [
    "mystations = {\n",
    "    \"ALDR\": [\"Aldershot\", 600, -79.855009, 43.312886],\n",
    "    #...\n",
    "}"
   ]
  },
  {
   "cell_type": "markdown",
   "id": "4d3466cf-b2dd-4c4b-ac30-d45204f00480",
   "metadata": {},
   "source": [
    "15. In the template code cell below and using *sample_stations*, create a dictionary that imitates the structure suggested above. You will need to think through this task in steps. Focus and solve this ONE STEP AT A TIME. (/4)"
   ]
  },
  {
   "cell_type": "code",
   "execution_count": 85,
   "id": "8475f695-35d4-4536-a703-6dc837f6f20a",
   "metadata": {},
   "outputs": [
    {
     "name": "stdout",
     "output_type": "stream",
     "text": [
      "{'XYUL': ['Aeroport Montreal Pierre-Elliott Trudeau', 555, -73.75183367, 45.45698788], 'ALDR': ['Aldershot', 600, -79.855009, 43.312886], 'ALEX': ['Alexandria', 344, -74.639672, 45.31805], 'AMQU': ['Amqui', 221, -67.436172, 48.46626], 'AMYO': ['Amyot', 636, -84.95412177, 48.4828773], 'ANJO': ['Anjou (EXO)', 633, -73.59680183, 45.617796], 'ARMG': ['Armstrong', 106, -89.037603, 50.301424], 'AUDN': ['Auden', 102, -87.88987518, 50.22916625], 'AZIL': ['Azilda', 220, -81.138044, 46.564107], 'BLVL': ['Belleville', 415, -77.37455, 44.17961]}\n"
     ]
    }
   ],
   "source": [
    "mystations = {}\n",
    "\n",
    "for station in sample_stations:\n",
    "    parts = station.split(',')\n",
    "    station_id = parts[1]              # e.g., \"ALDR\"\n",
    "    city = parts[2]                    # e.g., \"Aldershot\"\n",
    "    sid = int(parts[0])                # convert first part to integer\n",
    "    lon, lat = parts[3].split(';')     # split coordinates\n",
    "    lon = float(lon)\n",
    "    lat = float(lat)\n",
    "\n",
    "    mystations[station_id] = [city, sid, lon, lat]\n",
    "\n",
    "print(mystations)"
   ]
  },
  {
   "cell_type": "markdown",
   "id": "6966e483-01fa-4d3d-8c8b-5a8bedf1a345",
   "metadata": {},
   "source": [
    "16. From your dictionary, print the value of Belleville (BLVL) in the code cell below. (/1)"
   ]
  },
  {
   "cell_type": "code",
   "execution_count": 89,
   "id": "e14d7cae-5df3-41a9-a8a7-dced8a04244a",
   "metadata": {},
   "outputs": [
    {
     "name": "stdout",
     "output_type": "stream",
     "text": [
      "['Belleville', 415, -77.37455, 44.17961]\n"
     ]
    }
   ],
   "source": [
    "print(mystations[\"BLVL\"])\n"
   ]
  },
  {
   "cell_type": "markdown",
   "id": "8bca0efe-1cf3-45d7-9474-8f65d4f56246",
   "metadata": {},
   "source": [
    "17. What type of object is the value for \"BLVL\"? Locate it in your dictionary and print its type in the code cell below. (/1)"
   ]
  },
  {
   "cell_type": "code",
   "execution_count": 92,
   "id": "50cf4218-5e2a-4e82-9008-3ef35a008a5d",
   "metadata": {},
   "outputs": [
    {
     "name": "stdout",
     "output_type": "stream",
     "text": [
      "<class 'list'>\n"
     ]
    }
   ],
   "source": [
    "print(type(mystations[\"BLVL\"]))\n"
   ]
  },
  {
   "cell_type": "markdown",
   "id": "cc928971-dec1-44a0-9c4b-d8c0be70dec4",
   "metadata": {},
   "source": [
    "18. Again from the key-value data in your dict, print the latitudes contained in the value of key \"BLVL\" in the code cell below. (/1)"
   ]
  },
  {
   "cell_type": "code",
   "execution_count": 94,
   "id": "08c45f92-d293-4756-8353-ffc3c4d990ad",
   "metadata": {},
   "outputs": [
    {
     "name": "stdout",
     "output_type": "stream",
     "text": [
      "44.17961\n"
     ]
    }
   ],
   "source": [
    "print(mystations[\"BLVL\"][3])"
   ]
  },
  {
   "cell_type": "markdown",
   "id": "430fa8ef-a10a-40bc-9cee-2d3269ab7adb",
   "metadata": {},
   "source": [
    "The mapping intern has no idea how to use dictionaries. They need a list of the coordinates so they can georeference and make a simple plot map of stations across Canada...\n",
    "\n",
    "19. Using your dictionary, create a list of coordinates (latitude AND longitude) in the code cell below. Combine these two values into one text object, separated by a comma. (/2)"
   ]
  },
  {
   "cell_type": "code",
   "execution_count": 95,
   "id": "170d02ae-a0d4-4a15-89e4-a562ee6ca746",
   "metadata": {},
   "outputs": [
    {
     "name": "stdout",
     "output_type": "stream",
     "text": [
      "['-73.75183367,45.45698788', '-79.855009,43.312886', '-74.639672,45.31805', '-67.436172,48.46626', '-84.95412177,48.4828773', '-73.59680183,45.617796', '-89.037603,50.301424', '-87.88987518,50.22916625', '-81.138044,46.564107', '-77.37455,44.17961']\n"
     ]
    }
   ],
   "source": [
    "coords = [f\"{value[2]},{value[3]}\" for value in mystations.values()]\n",
    "print(coords)"
   ]
  },
  {
   "cell_type": "markdown",
   "id": "4cc6d6e5",
   "metadata": {},
   "source": [
    "# Reflection and final tasks\n",
    "20. In a Markdown cell below, write a few sentences about you envision using some of the basic Python skills you learned this week (e.g., variables, conditional statements, for loops, string methods, etc.) in your proposed project. How would these functions apply to your own datasets? (/5)"
   ]
  },
  {
   "cell_type": "markdown",
   "id": "60843b4f",
   "metadata": {},
   "source": [
    "The Python skills in this lab connect directly to my project on mapping abandoned mines and tailings ponds.  \n",
    "- **Variables and data types** let me clearly separate information such as mine ID numbers, pond names, and geographic coordinates.  \n",
    "- **Conditionals** can help me filter the dataset, for example keeping only abandoned mines or identifying ponds that exceed certain risk thresholds.  \n",
    "- **Loops** will allow me to clean or reformat a large number of station or site entries automatically instead of doing it one by one.  \n",
    "- **String methods** are useful for cleaning messy text fields from MELCCFP datasets (e.g., removing duplicate labels, standardizing city or region names).  \n",
    "- **Dictionaries** provide a structured way to store mine site IDs as keys with values like location, status, and risk attributes, making future analysis much easier.  \n",
    "\n",
    "Altogether, these Python tools help automate repetitive cleaning tasks and prepare the mine/pond datasets for GIS visualization and risk mapping.  \n"
   ]
  },
  {
   "cell_type": "markdown",
   "id": "cfb4add6-76a0-4d29-84bd-127b50791e0b",
   "metadata": {},
   "source": [
    "## Using .gitignore files\n",
    "\n",
    "If you are not already aware of what [.gitignore files](https://docs.github.com/en/get-started/getting-started-with-git/ignoring-files) are, then keep reading.\n",
    "\n",
    "A *.gitignore* allows you to tell git what not to track or commit to your repository. Basically, if you have created some clutter (notes, subdirectories) in your local repository, or your code has generated some unwanted files you prefer not to share to your public repository hosted on GitHub, then you can tell git to ignore these inside a *.gitignore* file. This file needs to be located at the root directory of your repository (i.e. not inside a subdirectory).\n",
    "\n",
    "To create a *.gitignore* file, you can do the following (some commands might be slightly different if you are in DOS):\n",
    "- `touch .gitignore` to create the file\n",
    "- `ls` to view your file in the directory\n",
    "\n",
    "Oh! You can't see it. This is because adding a point before a file or folder name makes it hidden from view. This is true in Windows Explorer (PC) or in Finder (Mac) as well.\n",
    "\n",
    "- To view hidden items, enter `ls -a` (for all). You can also add the `-l` argument for a more detailed display (`ls -al`).\n",
    "\n",
    "Now you should see your new *.gitignore* file, as well as a folder called *.git*. Note that any directory with a *.git* folder inside it is a sign that it's an active git repository. This folder is created automatically and stores your version history, etc.\n",
    "\n",
    "- To edit your *.gitignore* file, open it in the text editor of your choice (if you are willing to do this directly from within the console, you can type `vi .gitignore` to open the file in Vim). If you want to use another text editor that you cannot access directly through a command, you will need to navigate to your directory and open it from outside the command line.\n",
    "\n",
    "In your *.gitignore file*, you can basically write out each file you would like to ignore on a separate line. If you wanted to ignore an entire folder, then you just need to write the folder name followed by a forward slash (*/*).\n",
    "\n",
    "In my case, I would like git to ignore my virtual environment folder, which I happened to have created inside my repo. I would also like it to ignore the *.ipynb_checkpoints* folder that was created automatically by JupyterLab.\n",
    "\n",
    "- If this is true for you as well, then you might want to input the following text inside your *.gitignore*. If you are using Vim, then you will need to press *i* before inputting anything.\n",
    "\n",
    "```\n",
    "venv*/\n",
    ".ipynb_checkpoints/\n",
    "```\n",
    "\n",
    "In the snippet above, *venv\\*/* is used to match with any folder that starts with the word venv, followed by any number of other characters or digits. For more elaborate pattern matching guidance, you can refer to this [documentation](https://git-scm.com/docs/gitignore#_pattern_format). Add any other files or folders you would like to hide from your online repository...\n",
    "\n",
    "- When you are done inputting what you want git to ignore, save and close your text editor (*:wq* in Vim).\n",
    "- Now, enter `git status`: any untracked items you input into your *.gitignore* file will no longer be visible.\n",
    "\n",
    "**Removing files that are already tracked**\n",
    "\n",
    "If you have already added and started tracking changes to a file which you would now like git to ignore, see [these instructions](https://docs.github.com/en/get-started/getting-started-with-git/ignoring-files).\n",
    "\n",
    "If you want to ignore a file that is already checked in, you must untrack the file before you add a rule to ignore it. From your terminal, untrack the file. `$ git rm --cached FILENAME`\n",
    "\n",
    "## Pushing your .gitignore to your online repository\n",
    "\n",
    "The last thing to consider is whether or not you would like your gitignore to be public. If you were pushing this code to a repo you expect others to be downloading and using, you might not want them to see what you're trying to ignore on your own machine. In this case, though, we would like to see your gitignore file.\n",
    "\n",
    "21. Check in your *.gitignore* file and commit it to your repo so that it gets pushed to GitHub: `git add .gitignore`, `git commit -m 'add .gitignore'` and then `git push` when you are ready.(/2)"
   ]
  },
  {
   "cell_type": "markdown",
   "id": "c63dd668-0858-4e58-9cd8-90894a60830f",
   "metadata": {},
   "source": [
    "# Deliverables\n",
    "\n",
    "You will need to push the following to your online repository for evaluation:\n",
    "1. Your modified *Lab-2.ipynb* containing:\n",
    "   * Your answers to all the above questions, including the final reflection (question 20)\n",
    "2. Your .gitignore file\n",
    "   * Note that your repository should not contain a virtual environment folder or *.ipynb_checkpoints* folder. That is, if these two folders happen to be in your repo, you should be ignoring them in your .gitignore and they should not appear on GitHub. Other ignored elements are optional.\n",
    "   \n",
    "/40"
   ]
  }
 ],
 "metadata": {
  "kernelspec": {
   "display_name": "Python 3",
   "language": "python",
   "name": "python3"
  },
  "language_info": {
   "codemirror_mode": {
    "name": "ipython",
    "version": 3
   },
   "file_extension": ".py",
   "mimetype": "text/x-python",
   "name": "python",
   "nbconvert_exporter": "python",
   "pygments_lexer": "ipython3",
   "version": "3.13.7"
  }
 },
 "nbformat": 4,
 "nbformat_minor": 5
}
